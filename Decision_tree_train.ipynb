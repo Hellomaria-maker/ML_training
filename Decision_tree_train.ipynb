{
 "cells": [
  {
   "cell_type": "code",
   "execution_count": 1,
   "id": "a93069a4",
   "metadata": {},
   "outputs": [],
   "source": [
    "import pandas as pd\n",
    "import numpy as np"
   ]
  },
  {
   "cell_type": "code",
   "execution_count": 2,
   "id": "fb9f093c",
   "metadata": {},
   "outputs": [],
   "source": [
    "%matplotlib inline\n",
    "import matplotlib.pyplot as plt\n",
    "import seaborn as sns"
   ]
  },
  {
   "cell_type": "code",
   "execution_count": 3,
   "id": "a051e5a0",
   "metadata": {},
   "outputs": [],
   "source": [
    "from sklearn import tree"
   ]
  },
  {
   "cell_type": "code",
   "execution_count": 4,
   "id": "c15f72d7",
   "metadata": {},
   "outputs": [],
   "source": [
    "data = pd.DataFrame({'X_1': [1, 1, 1, 0, 0, 0, 0, 1], 'X_2': [0, 0, 0, 1, 0, 0, 0, 1], 'Y': [1, 1, 1, 1, 0, 0, 0, 0]})"
   ]
  },
  {
   "cell_type": "code",
   "execution_count": 5,
   "id": "334fe193",
   "metadata": {},
   "outputs": [
    {
     "data": {
      "text/html": [
       "<div>\n",
       "<style scoped>\n",
       "    .dataframe tbody tr th:only-of-type {\n",
       "        vertical-align: middle;\n",
       "    }\n",
       "\n",
       "    .dataframe tbody tr th {\n",
       "        vertical-align: top;\n",
       "    }\n",
       "\n",
       "    .dataframe thead th {\n",
       "        text-align: right;\n",
       "    }\n",
       "</style>\n",
       "<table border=\"1\" class=\"dataframe\">\n",
       "  <thead>\n",
       "    <tr style=\"text-align: right;\">\n",
       "      <th></th>\n",
       "      <th>X_1</th>\n",
       "      <th>X_2</th>\n",
       "      <th>Y</th>\n",
       "    </tr>\n",
       "  </thead>\n",
       "  <tbody>\n",
       "    <tr>\n",
       "      <th>0</th>\n",
       "      <td>1</td>\n",
       "      <td>0</td>\n",
       "      <td>1</td>\n",
       "    </tr>\n",
       "    <tr>\n",
       "      <th>1</th>\n",
       "      <td>1</td>\n",
       "      <td>0</td>\n",
       "      <td>1</td>\n",
       "    </tr>\n",
       "    <tr>\n",
       "      <th>2</th>\n",
       "      <td>1</td>\n",
       "      <td>0</td>\n",
       "      <td>1</td>\n",
       "    </tr>\n",
       "    <tr>\n",
       "      <th>3</th>\n",
       "      <td>0</td>\n",
       "      <td>1</td>\n",
       "      <td>1</td>\n",
       "    </tr>\n",
       "    <tr>\n",
       "      <th>4</th>\n",
       "      <td>0</td>\n",
       "      <td>0</td>\n",
       "      <td>0</td>\n",
       "    </tr>\n",
       "    <tr>\n",
       "      <th>5</th>\n",
       "      <td>0</td>\n",
       "      <td>0</td>\n",
       "      <td>0</td>\n",
       "    </tr>\n",
       "    <tr>\n",
       "      <th>6</th>\n",
       "      <td>0</td>\n",
       "      <td>0</td>\n",
       "      <td>0</td>\n",
       "    </tr>\n",
       "    <tr>\n",
       "      <th>7</th>\n",
       "      <td>1</td>\n",
       "      <td>1</td>\n",
       "      <td>0</td>\n",
       "    </tr>\n",
       "  </tbody>\n",
       "</table>\n",
       "</div>"
      ],
      "text/plain": [
       "   X_1  X_2  Y\n",
       "0    1    0  1\n",
       "1    1    0  1\n",
       "2    1    0  1\n",
       "3    0    1  1\n",
       "4    0    0  0\n",
       "5    0    0  0\n",
       "6    0    0  0\n",
       "7    1    1  0"
      ]
     },
     "execution_count": 5,
     "metadata": {},
     "output_type": "execute_result"
    }
   ],
   "source": [
    "data"
   ]
  },
  {
   "cell_type": "code",
   "execution_count": 6,
   "id": "27fcd954",
   "metadata": {},
   "outputs": [],
   "source": [
    "# Задача: при помощи дерева решений предсказать значение Y основываясь на знач. X_1, X_2"
   ]
  },
  {
   "cell_type": "code",
   "execution_count": 7,
   "id": "e8b6c546",
   "metadata": {},
   "outputs": [],
   "source": [
    "clf = tree.DecisionTreeClassifier(criterion='entropy')"
   ]
  },
  {
   "cell_type": "code",
   "execution_count": 8,
   "id": "df9d9268",
   "metadata": {},
   "outputs": [
    {
     "data": {
      "text/plain": [
       "DecisionTreeClassifier(criterion='entropy')"
      ]
     },
     "execution_count": 8,
     "metadata": {},
     "output_type": "execute_result"
    }
   ],
   "source": [
    "clf"
   ]
  },
  {
   "cell_type": "code",
   "execution_count": 9,
   "id": "46bdb545",
   "metadata": {},
   "outputs": [],
   "source": [
    "# Сделаем предобрботку данных"
   ]
  },
  {
   "cell_type": "code",
   "execution_count": 10,
   "id": "76665451",
   "metadata": {},
   "outputs": [],
   "source": [
    "X = data[['X_1','X_2']] # Фичи - массив\n",
    "y = data.Y # Целевая переменная - вектор"
   ]
  },
  {
   "cell_type": "code",
   "execution_count": 11,
   "id": "f6b2b427",
   "metadata": {},
   "outputs": [
    {
     "data": {
      "text/plain": [
       "DecisionTreeClassifier(criterion='entropy')"
      ]
     },
     "execution_count": 11,
     "metadata": {},
     "output_type": "execute_result"
    }
   ],
   "source": [
    "clf.fit(X, y) # Дерево решений обучилось, теперь надо понять чему... :)))"
   ]
  },
  {
   "cell_type": "code",
   "execution_count": 12,
   "id": "e02239fa",
   "metadata": {},
   "outputs": [
    {
     "data": {
      "text/plain": [
       "[Text(167.4, 181.2, 'X[0] <= 0.5\\nentropy = 1.0\\nsamples = 8\\nvalue = [4, 4]'),\n",
       " Text(83.7, 108.72, 'X[1] <= 0.5\\nentropy = 0.811\\nsamples = 4\\nvalue = [3, 1]'),\n",
       " Text(41.85, 36.23999999999998, 'entropy = 0.0\\nsamples = 3\\nvalue = [3, 0]'),\n",
       " Text(125.55000000000001, 36.23999999999998, 'entropy = 0.0\\nsamples = 1\\nvalue = [0, 1]'),\n",
       " Text(251.10000000000002, 108.72, 'X[1] <= 0.5\\nentropy = 0.811\\nsamples = 4\\nvalue = [1, 3]'),\n",
       " Text(209.25, 36.23999999999998, 'entropy = 0.0\\nsamples = 3\\nvalue = [0, 3]'),\n",
       " Text(292.95, 36.23999999999998, 'entropy = 0.0\\nsamples = 1\\nvalue = [1, 0]')]"
      ]
     },
     "execution_count": 12,
     "metadata": {},
     "output_type": "execute_result"
    },
    {
     "data": {
      "image/png": "[encoded data removed]",
      "text/plain": [
       "<Figure size 432x288 with 1 Axes>"
      ]
     },
     "metadata": {
      "needs_background": "light"
     },
     "output_type": "display_data"
    }
   ],
   "source": [
    "from sklearn.tree import plot_tree\n",
    "plot_tree(clf,filled=True)"
   ]
  },
  {
   "cell_type": "code",
   "execution_count": 15,
   "id": "7e1025a2",
   "metadata": {},
   "outputs": [],
   "source": [
    "# Задачи\n",
    "train_data = pd.read_csv('https://stepik.org/media/attachments/course/4852/cats.csv')"
   ]
  },
  {
   "cell_type": "code",
   "execution_count": 74,
   "id": "2d700ce5",
   "metadata": {},
   "outputs": [
    {
     "data": {
      "text/html": [
       "<div>\n",
       "<style scoped>\n",
       "    .dataframe tbody tr th:only-of-type {\n",
       "        vertical-align: middle;\n",
       "    }\n",
       "\n",
       "    .dataframe tbody tr th {\n",
       "        vertical-align: top;\n",
       "    }\n",
       "\n",
       "    .dataframe thead th {\n",
       "        text-align: right;\n",
       "    }\n",
       "</style>\n",
       "<table border=\"1\" class=\"dataframe\">\n",
       "  <thead>\n",
       "    <tr style=\"text-align: right;\">\n",
       "      <th></th>\n",
       "      <th>Unnamed: 0</th>\n",
       "      <th>Шерстист</th>\n",
       "      <th>Гавкает</th>\n",
       "      <th>Лазает по деревьям</th>\n",
       "      <th>Вид</th>\n",
       "    </tr>\n",
       "  </thead>\n",
       "  <tbody>\n",
       "    <tr>\n",
       "      <th>0</th>\n",
       "      <td>0</td>\n",
       "      <td>1</td>\n",
       "      <td>1</td>\n",
       "      <td>0</td>\n",
       "      <td>собачка</td>\n",
       "    </tr>\n",
       "    <tr>\n",
       "      <th>1</th>\n",
       "      <td>1</td>\n",
       "      <td>1</td>\n",
       "      <td>1</td>\n",
       "      <td>0</td>\n",
       "      <td>собачка</td>\n",
       "    </tr>\n",
       "    <tr>\n",
       "      <th>2</th>\n",
       "      <td>2</td>\n",
       "      <td>1</td>\n",
       "      <td>1</td>\n",
       "      <td>0</td>\n",
       "      <td>собачка</td>\n",
       "    </tr>\n",
       "    <tr>\n",
       "      <th>3</th>\n",
       "      <td>3</td>\n",
       "      <td>1</td>\n",
       "      <td>1</td>\n",
       "      <td>0</td>\n",
       "      <td>собачка</td>\n",
       "    </tr>\n",
       "    <tr>\n",
       "      <th>4</th>\n",
       "      <td>4</td>\n",
       "      <td>1</td>\n",
       "      <td>0</td>\n",
       "      <td>1</td>\n",
       "      <td>котик</td>\n",
       "    </tr>\n",
       "    <tr>\n",
       "      <th>5</th>\n",
       "      <td>5</td>\n",
       "      <td>1</td>\n",
       "      <td>0</td>\n",
       "      <td>1</td>\n",
       "      <td>котик</td>\n",
       "    </tr>\n",
       "    <tr>\n",
       "      <th>6</th>\n",
       "      <td>6</td>\n",
       "      <td>1</td>\n",
       "      <td>0</td>\n",
       "      <td>1</td>\n",
       "      <td>котик</td>\n",
       "    </tr>\n",
       "    <tr>\n",
       "      <th>7</th>\n",
       "      <td>7</td>\n",
       "      <td>1</td>\n",
       "      <td>0</td>\n",
       "      <td>1</td>\n",
       "      <td>котик</td>\n",
       "    </tr>\n",
       "    <tr>\n",
       "      <th>8</th>\n",
       "      <td>8</td>\n",
       "      <td>1</td>\n",
       "      <td>1</td>\n",
       "      <td>1</td>\n",
       "      <td>котик</td>\n",
       "    </tr>\n",
       "    <tr>\n",
       "      <th>9</th>\n",
       "      <td>9</td>\n",
       "      <td>0</td>\n",
       "      <td>0</td>\n",
       "      <td>1</td>\n",
       "      <td>котик</td>\n",
       "    </tr>\n",
       "  </tbody>\n",
       "</table>\n",
       "</div>"
      ],
      "text/plain": [
       "   Unnamed: 0  Шерстист  Гавкает  Лазает по деревьям      Вид\n",
       "0           0         1        1                   0  собачка\n",
       "1           1         1        1                   0  собачка\n",
       "2           2         1        1                   0  собачка\n",
       "3           3         1        1                   0  собачка\n",
       "4           4         1        0                   1    котик\n",
       "5           5         1        0                   1    котик\n",
       "6           6         1        0                   1    котик\n",
       "7           7         1        0                   1    котик\n",
       "8           8         1        1                   1    котик\n",
       "9           9         0        0                   1    котик"
      ]
     },
     "execution_count": 74,
     "metadata": {},
     "output_type": "execute_result"
    }
   ],
   "source": [
    "train_data"
   ]
  },
  {
   "cell_type": "code",
   "execution_count": 22,
   "id": "26b15b4f",
   "metadata": {},
   "outputs": [],
   "source": [
    "import math as m"
   ]
  },
  {
   "cell_type": "code",
   "execution_count": 88,
   "id": "b4b717f6",
   "metadata": {},
   "outputs": [],
   "source": [
    "E_sh_kot = ((1)*m.log2(1) + 0)\n",
    "E_sh_sob = - ((4/9)*m.log2((4/9)) + (5/9)*m.log2(5/9))\n",
    "E_gav_sob=0 - (5/5)*m.log2((5/5))\n",
    "E_gav_kot=-(4/5)*m.log2((4/5)) - (1/5)*m.log2((1/5))\n",
    "E_laz_sob=0 - (6/6)*m.log2((6/6))\n",
    "E_laz_kot=-(4/4)*m.log2((4/4)) - 0"
   ]
  },
  {
   "cell_type": "code",
   "execution_count": 80,
   "id": "3b54e448",
   "metadata": {},
   "outputs": [],
   "source": [
    "E = - ((4/10)*m.log2(4/10) + (6/10)*m.log2(6/10))"
   ]
  },
  {
   "cell_type": "code",
   "execution_count": 81,
   "id": "f91952c2",
   "metadata": {},
   "outputs": [],
   "source": [
    "IG_sh = E - (1/10)*E_sh_sob - (9/10)*E_sh_kot\n",
    "IG_gav = E - (5/10)*E_gav_sob - (5/10)*E_gav_kot\n",
    "IG_laz = E - (6/10)*E_laz_sob - (6/10)*E_laz_kot"
   ]
  },
  {
   "cell_type": "code",
   "execution_count": null,
   "id": "108f7901",
   "metadata": {},
   "outputs": [],
   "source": []
  }
 ],
 "metadata": {
  "kernelspec": {
   "display_name": "Python 3 (ipykernel)",
   "language": "python",
   "name": "python3"
  },
  "language_info": {
   "codemirror_mode": {
    "name": "ipython",
    "version": 3
   },
   "file_extension": ".py",
   "mimetype": "text/x-python",
   "name": "python",
   "nbconvert_exporter": "python",
   "pygments_lexer": "ipython3",
   "version": "3.9.5"
  }
 },
 "nbformat": 4,
 "nbformat_minor": 5
}
